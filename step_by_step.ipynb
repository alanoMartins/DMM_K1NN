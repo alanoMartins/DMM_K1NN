{
 "cells": [
  {
   "cell_type": "markdown",
   "metadata": {},
   "source": [
    "# Implementação do DMM e k1NN"
   ]
  },
  {
   "cell_type": "markdown",
   "metadata": {},
   "source": [
    "## Importando o dataset iris através da biblioteca scikit learn"
   ]
  },
  {
   "cell_type": "code",
   "execution_count": 27,
   "metadata": {},
   "outputs": [
    {
     "data": {
      "text/plain": [
       "array(['setosa', 'versicolor', 'virginica'], dtype='<U10')"
      ]
     },
     "execution_count": 27,
     "metadata": {},
     "output_type": "execute_result"
    }
   ],
   "source": [
    "from sklearn import datasets\n",
    "iris = datasets.load_iris()\n",
    "\n",
    "X = iris.data\n",
    "y = iris.target\n",
    "\n",
    "iris.target_names"
   ]
  },
  {
   "cell_type": "markdown",
   "metadata": {},
   "source": [
    "## Dividindo os dados em treino / test\n",
    "\n",
    "> Foi escoliho o teste de 40% para obter a quantidade de dados sugeridos durante a aula."
   ]
  },
  {
   "cell_type": "code",
   "execution_count": 28,
   "metadata": {},
   "outputs": [],
   "source": [
    "from sklearn.model_selection import train_test_split\n",
    "X_train, X_test, y_train, y_test = train_test_split(X, y, test_size=0.4, stratify=y)"
   ]
  },
  {
   "cell_type": "markdown",
   "metadata": {},
   "source": [
    "# DMM"
   ]
  },
  {
   "cell_type": "markdown",
   "metadata": {},
   "source": [
    "### Treinando o modelo (calculando vetores médios)"
   ]
  },
  {
   "cell_type": "code",
   "execution_count": 16,
   "metadata": {},
   "outputs": [],
   "source": [
    "def train(self, X, y):\n",
    "\n",
    "    t = list(zip(X, y))\n",
    "\n",
    "    c1 = filter(lambda x: x[1] == 0, t)\n",
    "    cx1, cy1= zip(*c1)\n",
    "    c1_mean = sum(cx1) / len(cx1)\n",
    "\n",
    "    c2 = filter(lambda x: x[1] == 1, t)\n",
    "    cx2, cy2= zip(*c2)\n",
    "    c2_mean = sum(cx2) / len(cx2)\n",
    "\n",
    "    c3 = filter(lambda x: x[1] == 2, t)\n",
    "    cx3, cy3= zip(*c3)\n",
    "    c3_mean = sum(cx3) / len(cx3)\n",
    "\n",
    "    self.__models = [c1_mean, c2_mean, c3_mean]"
   ]
  },
  {
   "cell_type": "markdown",
   "metadata": {},
   "source": [
    "### Implementação da distância Euclidiana e calculo em batch"
   ]
  },
  {
   "cell_type": "code",
   "execution_count": 18,
   "metadata": {},
   "outputs": [],
   "source": [
    "def __calc_distance(self, data, mean):\n",
    "    return numpy.sqrt(numpy.sum((data - mean) ** 2))"
   ]
  },
  {
   "cell_type": "code",
   "execution_count": 19,
   "metadata": {},
   "outputs": [],
   "source": [
    "def __distances(self, models, X):\n",
    "    for x in X:\n",
    "        yield [self.__calc_distance(x, m) for m in models]"
   ]
  },
  {
   "cell_type": "markdown",
   "metadata": {},
   "source": [
    "### Predição do modelo (escolha da menor distância)"
   ]
  },
  {
   "cell_type": "code",
   "execution_count": 20,
   "metadata": {},
   "outputs": [],
   "source": [
    "def predict(self, X):\n",
    "    distances_euclidian = list(self.__distances(self.__models, X))\n",
    "    return [numpy.argmin(d) for d in distances_euclidian]"
   ]
  },
  {
   "cell_type": "markdown",
   "metadata": {},
   "source": [
    "# 1NN"
   ]
  },
  {
   "cell_type": "markdown",
   "metadata": {},
   "source": [
    "### Treinando o modelo (armazenando todos os pontos)"
   ]
  },
  {
   "cell_type": "code",
   "execution_count": 21,
   "metadata": {},
   "outputs": [],
   "source": [
    "def train(self, X, y):\n",
    "    self.__models = list(zip(y, X))"
   ]
  },
  {
   "cell_type": "markdown",
   "metadata": {},
   "source": [
    "### Predição do modelo (buscando a classe do ponto mais próximo )"
   ]
  },
  {
   "cell_type": "code",
   "execution_count": 22,
   "metadata": {},
   "outputs": [],
   "source": [
    "def predict(self, X):\n",
    "    for x in X:\n",
    "        distances = [(label, self.__calc_distance(x, model)) for label, model in self.__models]\n",
    "        dy, dx = zip(*distances)\n",
    "        idx = numpy.argmin(dx)\n",
    "        yield dy[idx]"
   ]
  },
  {
   "cell_type": "markdown",
   "metadata": {},
   "source": [
    "# Matriz de confusão"
   ]
  },
  {
   "cell_type": "code",
   "execution_count": 23,
   "metadata": {},
   "outputs": [],
   "source": [
    "def confusion_matrix(actual, predicted):\n",
    "    num_features = 3\n",
    "    cm = numpy.zeros((num_features,num_features))\n",
    "    for a, p in zip(actual, predicted):\n",
    "        cm[a][p] += 1\n",
    "\n",
    "    return cm"
   ]
  },
  {
   "cell_type": "markdown",
   "metadata": {},
   "source": [
    "## Calculando accuracy"
   ]
  },
  {
   "cell_type": "code",
   "execution_count": 24,
   "metadata": {},
   "outputs": [],
   "source": [
    "def accuracy(matrix):\n",
    "    res = 0\n",
    "    for i in range(len(matrix)):\n",
    "        res += matrix[i][i]\n",
    "    return res / matrix.sum()"
   ]
  },
  {
   "cell_type": "markdown",
   "metadata": {},
   "source": [
    "# Executando treinamento e teste dos modelos"
   ]
  },
  {
   "cell_type": "markdown",
   "metadata": {},
   "source": [
    "## DMM"
   ]
  },
  {
   "cell_type": "code",
   "execution_count": 35,
   "metadata": {},
   "outputs": [
    {
     "name": "stdout",
     "output_type": "stream",
     "text": [
      "[[20.  0.  0.]\n",
      " [ 0. 18.  2.]\n",
      " [ 0.  1. 19.]]\n",
      "Accuracy: 0.95\n"
     ]
    }
   ],
   "source": [
    "from classifier import DMM, K1NN\n",
    "from metrics import confusion_matrix, accuracy\n",
    "\n",
    "dmm = DMM()\n",
    "\n",
    "dmm.train(X_train, y_train)\n",
    "dmm_pred = dmm.predict(X_test)\n",
    "\n",
    "dmm_cm = confusion_matrix(y_test, dmm_pred)\n",
    "\n",
    "print(dmm_cm)\n",
    "print(\"Accuracy: {}\".format(accuracy(dmm_cm)))"
   ]
  },
  {
   "cell_type": "markdown",
   "metadata": {},
   "source": [
    "### 1NN"
   ]
  },
  {
   "cell_type": "code",
   "execution_count": 37,
   "metadata": {},
   "outputs": [
    {
     "name": "stdout",
     "output_type": "stream",
     "text": [
      "[[20.  0.  0.]\n",
      " [ 0. 19.  1.]\n",
      " [ 0.  0. 20.]]\n",
      "Accuracy 0.9833333333333333\n"
     ]
    }
   ],
   "source": [
    "k1nn = K1NN()\n",
    "\n",
    "k1nn.train(X_train, y_train)\n",
    "k1nn_pred = list(k1nn.predict(X_test))\n",
    "\n",
    "k1nn_cm = confusion_matrix(y_test, k1nn_pred)\n",
    "print(k1nn_cm)\n",
    "print(\"Accuracy {}\".format(accuracy(k1nn_cm)))"
   ]
  }
 ],
 "metadata": {
  "kernelspec": {
   "display_name": "Python 3",
   "language": "python",
   "name": "python3"
  },
  "language_info": {
   "codemirror_mode": {
    "name": "ipython",
    "version": 3
   },
   "file_extension": ".py",
   "mimetype": "text/x-python",
   "name": "python",
   "nbconvert_exporter": "python",
   "pygments_lexer": "ipython3",
   "version": "3.6.3"
  }
 },
 "nbformat": 4,
 "nbformat_minor": 2
}
